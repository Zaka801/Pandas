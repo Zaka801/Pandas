{
 "cells": [
  {
   "cell_type": "markdown",
   "id": "04e8a565",
   "metadata": {},
   "source": [
    "# Q:1 "
   ]
  },
  {
   "cell_type": "code",
   "execution_count": 1,
   "id": "d736c781",
   "metadata": {},
   "outputs": [
    {
     "name": "stdout",
     "output_type": "stream",
     "text": [
      "a    1\n",
      "x    4\n",
      "c    9\n",
      "2    6\n",
      "e    7\n",
      "dtype: int64\n"
     ]
    }
   ],
   "source": [
    "import pandas as pd\n",
    "\n",
    "# Create a pandas Series\n",
    "data = pd.Series([1, 4, 9, 6, 7], index=['a', 'x', 'c', '2', 'e'])\n",
    "\n",
    "# Print the Series\n",
    "print(data)\n"
   ]
  },
  {
   "cell_type": "markdown",
   "id": "f1a07c5e",
   "metadata": {},
   "source": [
    "# Q:2 \n"
   ]
  },
  {
   "cell_type": "code",
   "execution_count": 2,
   "id": "d513220c",
   "metadata": {},
   "outputs": [
    {
     "name": "stdout",
     "output_type": "stream",
     "text": [
      "Bilal     42\n",
      "Ayesha    48\n",
      "Hadia     39\n",
      "dtype: int64\n"
     ]
    }
   ],
   "source": [
    "import pandas as pd\n",
    "\n",
    "# Create a dictionary with names as keys and ages as values\n",
    "data = {'Bilal': 42, 'Ayesha': 48, 'Hadia': 39}\n",
    "\n",
    "# Create a pandas Series from the dictionary\n",
    "ages_series = pd.Series(data)\n",
    "\n",
    "# Print the Series\n",
    "print(ages_series)\n"
   ]
  },
  {
   "cell_type": "markdown",
   "id": "94cf7f90",
   "metadata": {},
   "source": [
    "# Q:3"
   ]
  },
  {
   "cell_type": "code",
   "execution_count": 3,
   "id": "ca1f8875",
   "metadata": {},
   "outputs": [
    {
     "name": "stdout",
     "output_type": "stream",
     "text": [
      "        day  temperature  windspeed  event\n",
      "0  1/1/2017           32          6   Rain\n",
      "1  1/2/2017           35          7  Sunny\n",
      "2  1/3/2017           28          2   Snow\n",
      "3  1/4/2017           24          7   Snow\n",
      "4  1/5/2017           32          4   Rain\n",
      "5  1/6/2017           31          2  Sunny\n"
     ]
    }
   ],
   "source": [
    "import pandas as pd\n",
    "\n",
    "# Create a dictionary with the data\n",
    "data = {\n",
    "    'day': ['1/1/2017', '1/2/2017', '1/3/2017', '1/4/2017', '1/5/2017', '1/6/2017'],\n",
    "    'temperature': [32, 35, 28, 24, 32, 31],\n",
    "    'windspeed': [6, 7, 2, 7, 4, 2],\n",
    "    'event': ['Rain', 'Sunny', 'Snow', 'Snow', 'Rain', 'Sunny']\n",
    "}\n",
    "\n",
    "# Create a pandas DataFrame from the dictionary\n",
    "df = pd.DataFrame(data)\n",
    "\n",
    "# Print the DataFrame\n",
    "print(df)\n"
   ]
  },
  {
   "cell_type": "markdown",
   "id": "e807fdb6",
   "metadata": {},
   "source": [
    "# Q:4 In extension to above question, you are required to replace index by ['a','b','c','d','e','f']"
   ]
  },
  {
   "cell_type": "code",
   "execution_count": 4,
   "id": "68d85a2f",
   "metadata": {},
   "outputs": [
    {
     "name": "stdout",
     "output_type": "stream",
     "text": [
      "        day  temperature  windspeed  event\n",
      "a  1/1/2017           32          6   Rain\n",
      "b  1/2/2017           35          7  Sunny\n",
      "c  1/3/2017           28          2   Snow\n",
      "d  1/4/2017           24          7   Snow\n",
      "e  1/5/2017           32          4   Rain\n",
      "f  1/6/2017           31          2  Sunny\n"
     ]
    }
   ],
   "source": [
    "import pandas as pd\n",
    "\n",
    "# Create a dictionary with the data\n",
    "data = {\n",
    "    'day': ['1/1/2017', '1/2/2017', '1/3/2017', '1/4/2017', '1/5/2017', '1/6/2017'],\n",
    "    'temperature': [32, 35, 28, 24, 32, 31],\n",
    "    'windspeed': [6, 7, 2, 7, 4, 2],\n",
    "    'event': ['Rain', 'Sunny', 'Snow', 'Snow', 'Rain', 'Sunny']\n",
    "}\n",
    "\n",
    "# Create a pandas DataFrame from the dictionary with custom index\n",
    "df = pd.DataFrame(data, index=['a', 'b', 'c', 'd', 'e', 'f'])\n",
    "\n",
    "# Print the DataFrame\n",
    "print(df)\n"
   ]
  },
  {
   "cell_type": "markdown",
   "id": "3807c32c",
   "metadata": {},
   "source": [
    "# Q:5In extension to above Q.3, calculate mean, miximum and minimum for label “temperature”"
   ]
  },
  {
   "cell_type": "code",
   "execution_count": 5,
   "id": "baf7d3f7",
   "metadata": {},
   "outputs": [
    {
     "name": "stdout",
     "output_type": "stream",
     "text": [
      "Mean Temperature: 30.333333333333332\n",
      "Maximum Temperature: 35\n",
      "Minimum Temperature: 24\n"
     ]
    }
   ],
   "source": [
    "import pandas as pd\n",
    "\n",
    "# Create a dictionary with the data\n",
    "data = {\n",
    "    'day': ['1/1/2017', '1/2/2017', '1/3/2017', '1/4/2017', '1/5/2017', '1/6/2017'],\n",
    "    'temperature': [32, 35, 28, 24, 32, 31],\n",
    "    'windspeed': [6, 7, 2, 7, 4, 2],\n",
    "    'event': ['Rain', 'Sunny', 'Snow', 'Snow', 'Rain', 'Sunny']\n",
    "}\n",
    "\n",
    "# Create a pandas DataFrame from the dictionary\n",
    "df = pd.DataFrame(data)\n",
    "\n",
    "# Calculate mean, maximum, and minimum for the 'temperature' column\n",
    "temperature_mean = df['temperature'].mean()\n",
    "temperature_max = df['temperature'].max()\n",
    "temperature_min = df['temperature'].min()\n",
    "\n",
    "# Print the results\n",
    "print(\"Mean Temperature:\", temperature_mean)\n",
    "print(\"Maximum Temperature:\", temperature_max)\n",
    "print(\"Minimum Temperature:\", temperature_min)\n"
   ]
  },
  {
   "cell_type": "markdown",
   "id": "06ffbb5e",
   "metadata": {},
   "source": [
    "# Q 6\n",
    ": Import CSV ‘people.csv’ in the given folder. Keep in mind the following instructions:\n",
    "You’re required to import only specific columns [\"First Name\", \"Sex\", \"Email\", “Phone”, “Job Title”]\n",
    "Set the following columns [\"Sex\", \"Job Title\"] as index columns\n",
    "Skip following rows [1,5]\n",
    "Export the CSV as “NewPeople.csv”\n"
   ]
  },
  {
   "cell_type": "code",
   "execution_count": 7,
   "id": "a8b6907f",
   "metadata": {},
   "outputs": [
    {
     "name": "stdout",
     "output_type": "stream",
     "text": [
      "                                First Name                       Email  \\\n",
      "Sex    Job Title                                                         \n",
      "Female Phytotherapist              Phillip       bethany14@example.com   \n",
      "Male   Homeopath                  Kristine       bthompson@example.com   \n",
      "       Market researcher           Yesenia   kaitlinkaiser@example.com   \n",
      "       Waste management officer       Erin         tconner@example.org   \n",
      "Female Intelligence analyst      Katherine     conniecowan@example.com   \n",
      "...                                    ...                         ...   \n",
      "       Software engineer            Dennis         bmartin@example.org   \n",
      "       Barrister                     Steve       latasha46@example.net   \n",
      "Male   Police officer               Wesley        regina11@example.org   \n",
      "Female Broadcast journalist         Summer  alexiscantrell@example.org   \n",
      "Male   IT sales professional        Mariah       pcopeland@example.org   \n",
      "\n",
      "                                                 Phone  \n",
      "Sex    Job Title                                        \n",
      "Female Phytotherapist                214.112.6044x4913  \n",
      "Male   Homeopath                          277.609.7938  \n",
      "       Market researcher                  584.094.6111  \n",
      "       Waste management officer  001-171-649-9856x5553  \n",
      "Female Intelligence analyst      +1-773-151-6685x49162  \n",
      "...                                                ...  \n",
      "       Software engineer          001-095-524-2112x257  \n",
      "       Barrister                      001-865-478-5157  \n",
      "Male   Police officer               995-542-3004x76800  \n",
      "Female Broadcast journalist       001-273-685-6932x092  \n",
      "Male   IT sales professional       (341)594-6554x44657  \n",
      "\n",
      "[98 rows x 3 columns]\n"
     ]
    }
   ],
   "source": [
    "import pandas as pd\n",
    "\n",
    "# Read the CSV file, skipping rows 1 and 5\n",
    "people_df = pd.read_csv('people.csv', skiprows=[1, 5], usecols=[\"First Name\", \"Sex\", \"Email\", \"Phone\", \"Job Title\"])\n",
    "\n",
    "# Set 'Sex' and 'Job Title' columns as index columns\n",
    "people_df.set_index([\"Sex\", \"Job Title\"], inplace=True)\n",
    "\n",
    "# Export the DataFrame to a new CSV file named \"NewPeople.csv\"\n",
    "people_df.to_csv('NewPeople.csv')\n",
    "\n",
    "# Optionally, print the DataFrame to verify the changes\n",
    "print(people_df)\n"
   ]
  },
  {
   "cell_type": "markdown",
   "id": "6ec0dff9",
   "metadata": {},
   "source": [
    "# Q:7\n",
    "Import excel sheet ‘SampleWork.xlsx’ in the given folder. Keep in mind the following instructions:\n",
    "Import sheet 1\n",
    "Import only first and last column from sheet 1\n",
    "Skip row 2 while importing the sheet\n",
    "Set row 2 as header\n",
    "export as new sheet."
   ]
  },
  {
   "cell_type": "code",
   "execution_count": 9,
   "id": "e661ec67",
   "metadata": {},
   "outputs": [
    {
     "name": "stdout",
     "output_type": "stream",
     "text": [
      "0   Bilal\n",
      "1  Sufyan\n",
      "2   Saiqa\n",
      "3   Aimen\n"
     ]
    }
   ],
   "source": [
    "import pandas as pd\n",
    "\n",
    "# Read the Excel file, skipping row 2 and importing only the first and last column from sheet 1\n",
    "sample_df = pd.read_excel('SampleWork.xlsx', sheet_name=0, usecols=[0, -1], skiprows=[1])\n",
    "\n",
    "# Set row 2 as the header\n",
    "sample_df.columns = sample_df.iloc[0]\n",
    "\n",
    "# Drop the second row, as it's already set as the header\n",
    "sample_df = sample_df[1:]\n",
    "\n",
    "# Export the DataFrame to a new sheet in the same Excel file\n",
    "sample_df.to_excel('SampleWork.xlsx', index=False, sheet_name='NewSheet')\n",
    "\n",
    "# Optionally, print the DataFrame to verify the changes\n",
    "print(sample_df)\n"
   ]
  },
  {
   "cell_type": "markdown",
   "id": "dbb4cb42",
   "metadata": {},
   "source": [
    "# Q:8"
   ]
  },
  {
   "cell_type": "code",
   "execution_count": 8,
   "id": "eaf8f98f",
   "metadata": {},
   "outputs": [
    {
     "name": "stdout",
     "output_type": "stream",
     "text": [
      "    Name  Age   Address Qualification\n",
      "0  Sonia   27    Lahore           Msc\n",
      "1  Bilal   24   Karachi            MA\n",
      "2  Hifza   22   Sialkot           MCA\n",
      "3  Kabir   32  Peshawar           Phd\n",
      "4  jazim   23       lhr           bsc\n"
     ]
    }
   ],
   "source": [
    "import pandas as pd\n",
    "\n",
    "data = {\n",
    "    'Name': ['Sonia', 'Bilal', 'Hifza', 'Kabir', 'jazim'],\n",
    "    'Age': [27, 24, 22, 32, 23],\n",
    "    'Address': ['Lahore', 'Karachi', 'Sialkot', 'Peshawar', 'lhr'],\n",
    "    'Qualification': ['Msc', 'MA', 'MCA', 'Phd', 'bsc']\n",
    "}\n",
    "\n",
    "AICP_DF = pd.DataFrame(data)\n",
    "\n",
    "print(AICP_DF)"
   ]
  },
  {
   "cell_type": "markdown",
   "id": "044031d9",
   "metadata": {},
   "source": [
    "select 'Name', 'Qualification' coloumns and save to df1"
   ]
  },
  {
   "cell_type": "code",
   "execution_count": 9,
   "id": "e550344b",
   "metadata": {},
   "outputs": [],
   "source": [
    "df1 = AICP_DF[['Name', 'Qualification']]"
   ]
  },
  {
   "cell_type": "markdown",
   "id": "cb15f5cb",
   "metadata": {},
   "source": [
    "add a new column to AICP_DF “Height” with the following values: [5.1, 6.2, 5.1, 5.2,5.1]\n"
   ]
  },
  {
   "cell_type": "code",
   "execution_count": 10,
   "id": "6cdd47f9",
   "metadata": {},
   "outputs": [],
   "source": [
    "AICP_DF['Height'] = [5.1, 6.2, 5.1, 5.2, 5.1]"
   ]
  },
  {
   "cell_type": "markdown",
   "id": "f787b76f",
   "metadata": {},
   "source": [
    "set column “Name” as the index column.\n"
   ]
  },
  {
   "cell_type": "code",
   "execution_count": 11,
   "id": "3b7a15f1",
   "metadata": {},
   "outputs": [
    {
     "data": {
      "text/html": [
       "<div>\n",
       "<style scoped>\n",
       "    .dataframe tbody tr th:only-of-type {\n",
       "        vertical-align: middle;\n",
       "    }\n",
       "\n",
       "    .dataframe tbody tr th {\n",
       "        vertical-align: top;\n",
       "    }\n",
       "\n",
       "    .dataframe thead th {\n",
       "        text-align: right;\n",
       "    }\n",
       "</style>\n",
       "<table border=\"1\" class=\"dataframe\">\n",
       "  <thead>\n",
       "    <tr style=\"text-align: right;\">\n",
       "      <th></th>\n",
       "      <th>Age</th>\n",
       "      <th>Address</th>\n",
       "      <th>Qualification</th>\n",
       "      <th>Height</th>\n",
       "    </tr>\n",
       "    <tr>\n",
       "      <th>Name</th>\n",
       "      <th></th>\n",
       "      <th></th>\n",
       "      <th></th>\n",
       "      <th></th>\n",
       "    </tr>\n",
       "  </thead>\n",
       "  <tbody>\n",
       "    <tr>\n",
       "      <th>Sonia</th>\n",
       "      <td>27</td>\n",
       "      <td>Lahore</td>\n",
       "      <td>Msc</td>\n",
       "      <td>5.1</td>\n",
       "    </tr>\n",
       "    <tr>\n",
       "      <th>Bilal</th>\n",
       "      <td>24</td>\n",
       "      <td>Karachi</td>\n",
       "      <td>MA</td>\n",
       "      <td>6.2</td>\n",
       "    </tr>\n",
       "    <tr>\n",
       "      <th>Hifza</th>\n",
       "      <td>22</td>\n",
       "      <td>Sialkot</td>\n",
       "      <td>MCA</td>\n",
       "      <td>5.1</td>\n",
       "    </tr>\n",
       "    <tr>\n",
       "      <th>Kabir</th>\n",
       "      <td>32</td>\n",
       "      <td>Peshawar</td>\n",
       "      <td>Phd</td>\n",
       "      <td>5.2</td>\n",
       "    </tr>\n",
       "    <tr>\n",
       "      <th>jazim</th>\n",
       "      <td>23</td>\n",
       "      <td>lhr</td>\n",
       "      <td>bsc</td>\n",
       "      <td>5.1</td>\n",
       "    </tr>\n",
       "  </tbody>\n",
       "</table>\n",
       "</div>"
      ],
      "text/plain": [
       "       Age   Address Qualification  Height\n",
       "Name                                      \n",
       "Sonia   27    Lahore           Msc     5.1\n",
       "Bilal   24   Karachi            MA     6.2\n",
       "Hifza   22   Sialkot           MCA     5.1\n",
       "Kabir   32  Peshawar           Phd     5.2\n",
       "jazim   23       lhr           bsc     5.1"
      ]
     },
     "execution_count": 11,
     "metadata": {},
     "output_type": "execute_result"
    }
   ],
   "source": [
    "AICP_DF.set_index('Name', inplace=True)\n",
    "AICP_DF"
   ]
  },
  {
   "cell_type": "markdown",
   "id": "819f9c4d",
   "metadata": {},
   "source": [
    "retrieve row with index “Hifza”"
   ]
  },
  {
   "cell_type": "code",
   "execution_count": 13,
   "id": "d626b487",
   "metadata": {},
   "outputs": [
    {
     "data": {
      "text/plain": [
       "Age                   22\n",
       "Address          Sialkot\n",
       "Qualification        MCA\n",
       "Height               5.1\n",
       "Name: Hifza, dtype: object"
      ]
     },
     "execution_count": 13,
     "metadata": {},
     "output_type": "execute_result"
    }
   ],
   "source": [
    "hifza_row = AICP_DF.loc['Hifza']\n",
    "hifza_row"
   ]
  },
  {
   "cell_type": "markdown",
   "id": "18cd539b",
   "metadata": {},
   "source": [
    "retrieve row with index 3"
   ]
  },
  {
   "cell_type": "code",
   "execution_count": 14,
   "id": "f22c933d",
   "metadata": {},
   "outputs": [
    {
     "data": {
      "text/plain": [
       "Age                    32\n",
       "Address          Peshawar\n",
       "Qualification         Phd\n",
       "Height                5.2\n",
       "Name: Kabir, dtype: object"
      ]
     },
     "execution_count": 14,
     "metadata": {},
     "output_type": "execute_result"
    }
   ],
   "source": [
    "index_3_row = AICP_DF.iloc[3]\n",
    "index_3_row"
   ]
  },
  {
   "cell_type": "markdown",
   "id": "c246ba86",
   "metadata": {},
   "source": [
    "drop row with index “Bilal”"
   ]
  },
  {
   "cell_type": "code",
   "execution_count": 15,
   "id": "9f63cc35",
   "metadata": {},
   "outputs": [
    {
     "name": "stdout",
     "output_type": "stream",
     "text": [
      "       Age   Address Qualification  Height\n",
      "Name                                      \n",
      "Sonia   27    Lahore           Msc     5.1\n",
      "Hifza   22   Sialkot           MCA     5.1\n",
      "Kabir   32  Peshawar           Phd     5.2\n",
      "jazim   23       lhr           bsc     5.1\n"
     ]
    }
   ],
   "source": [
    "AICP_DF.drop('Bilal', inplace=True)\n",
    "print(AICP_DF)"
   ]
  },
  {
   "cell_type": "code",
   "execution_count": null,
   "id": "7ce091e3",
   "metadata": {},
   "outputs": [],
   "source": []
  }
 ],
 "metadata": {
  "kernelspec": {
   "display_name": "Python 3 (ipykernel)",
   "language": "python",
   "name": "python3"
  },
  "language_info": {
   "codemirror_mode": {
    "name": "ipython",
    "version": 3
   },
   "file_extension": ".py",
   "mimetype": "text/x-python",
   "name": "python",
   "nbconvert_exporter": "python",
   "pygments_lexer": "ipython3",
   "version": "3.9.7"
  }
 },
 "nbformat": 4,
 "nbformat_minor": 5
}
